{
 "cells": [
  {
   "cell_type": "code",
   "execution_count": 1,
   "id": "2b843016-203d-49c5-a645-c41c80a2a8ad",
   "metadata": {},
   "outputs": [],
   "source": [
    "import pandas as pd"
   ]
  },
  {
   "cell_type": "code",
   "execution_count": 2,
   "id": "562f93b1-0b3e-4623-a50e-7b06c8d7fe06",
   "metadata": {},
   "outputs": [],
   "source": [
    "names = [\"Marge\", \"Homer\", \"Bart\", \"Lisa\", \"Maggie\"]"
   ]
  },
  {
   "cell_type": "code",
   "execution_count": 3,
   "id": "447d5d5b-edaa-47ca-8bfc-db0ffc28c8b0",
   "metadata": {},
   "outputs": [
    {
     "data": {
      "text/plain": [
       "Marge        March\n",
       "Homer          May\n",
       "Bart      February\n",
       "Lisa           May\n",
       "Maggie     January\n",
       "dtype: object"
      ]
     },
     "execution_count": 3,
     "metadata": {},
     "output_type": "execute_result"
    }
   ],
   "source": [
    "months = pd.Series( [\"March\", \"May\", \"February\", \"May\", \"January\"], index=names)\n",
    "months"
   ]
  },
  {
   "cell_type": "code",
   "execution_count": 4,
   "id": "44aad846-9e09-44b4-a0c7-b4e9eddadc1e",
   "metadata": {},
   "outputs": [
    {
     "data": {
      "text/plain": [
       "'May'"
      ]
     },
     "execution_count": 4,
     "metadata": {},
     "output_type": "execute_result"
    }
   ],
   "source": [
    "months[\"Lisa\"]"
   ]
  },
  {
   "cell_type": "code",
   "execution_count": 5,
   "id": "f0fbb158-fb4b-4652-bf03-a32047824313",
   "metadata": {},
   "outputs": [
    {
     "data": {
      "text/plain": [
       "Homer      May\n",
       "Marge    March\n",
       "dtype: object"
      ]
     },
     "execution_count": 5,
     "metadata": {},
     "output_type": "execute_result"
    }
   ],
   "source": [
    "months[ [\"Homer\", \"Marge\"] ]"
   ]
  },
  {
   "cell_type": "code",
   "execution_count": 6,
   "id": "192d4276-25c5-4cf8-a304-0276c72b62a6",
   "metadata": {},
   "outputs": [
    {
     "data": {
      "text/plain": [
       "Bart      February\n",
       "Lisa           May\n",
       "Maggie     January\n",
       "dtype: object"
      ]
     },
     "execution_count": 6,
     "metadata": {},
     "output_type": "execute_result"
    }
   ],
   "source": [
    "months.iloc[-3:]"
   ]
  },
  {
   "cell_type": "code",
   "execution_count": 7,
   "id": "7e425711-9a98-48e5-9f6f-8d753e6de9d4",
   "metadata": {},
   "outputs": [
    {
     "data": {
      "text/plain": [
       "Marge     1955\n",
       "Homer     1956\n",
       "Bart      1979\n",
       "Lisa      1981\n",
       "Maggie    1988\n",
       "dtype: int64"
      ]
     },
     "execution_count": 7,
     "metadata": {},
     "output_type": "execute_result"
    }
   ],
   "source": [
    "years = pd.Series([1955, 1956, 1979, 1981, 1988], index=names)\n",
    "years"
   ]
  },
  {
   "cell_type": "code",
   "execution_count": 8,
   "id": "3b4cd24b-8a56-4cc2-82f8-69474c5026b3",
   "metadata": {},
   "outputs": [
    {
     "name": "stdout",
     "output_type": "stream",
     "text": [
      "Values:\n",
      "[1955 1956 1979 1981 1988]\n"
     ]
    }
   ],
   "source": [
    "print(\"Values:\")\n",
    "print(years.values)"
   ]
  },
  {
   "cell_type": "code",
   "execution_count": 9,
   "id": "52a92d4a-04d2-47c3-b900-e32f40e7e40f",
   "metadata": {},
   "outputs": [
    {
     "name": "stdout",
     "output_type": "stream",
     "text": [
      "Index:\n",
      "Index(['Marge', 'Homer', 'Bart', 'Lisa', 'Maggie'], dtype='object')\n"
     ]
    }
   ],
   "source": [
    "print(\"Index:\")\n",
    "print(years.index)"
   ]
  },
  {
   "cell_type": "code",
   "execution_count": null,
   "id": "cca14bf3-089e-4af2-85a5-58aff0ffe91d",
   "metadata": {},
   "outputs": [],
   "source": []
  }
 ],
 "metadata": {
  "kernelspec": {
   "display_name": "Python 3 (ipykernel)",
   "language": "python",
   "name": "python3"
  },
  "language_info": {
   "codemirror_mode": {
    "name": "ipython",
    "version": 3
   },
   "file_extension": ".py",
   "mimetype": "text/x-python",
   "name": "python",
   "nbconvert_exporter": "python",
   "pygments_lexer": "ipython3",
   "version": "3.11.0"
  }
 },
 "nbformat": 4,
 "nbformat_minor": 5
}
