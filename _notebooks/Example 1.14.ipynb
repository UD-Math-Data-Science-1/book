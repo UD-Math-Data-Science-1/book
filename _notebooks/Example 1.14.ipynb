{
 "cells": [
  {
   "cell_type": "code",
   "execution_count": 1,
   "id": "2b843016-203d-49c5-a645-c41c80a2a8ad",
   "metadata": {},
   "outputs": [],
   "source": [
    "import pandas as pd"
   ]
  },
  {
   "cell_type": "code",
   "execution_count": 2,
   "id": "28af2f77-f6c1-43bd-bfc2-0c9224743701",
   "metadata": {},
   "outputs": [],
   "source": [
    "colors = [\"violet\", \"blue\", \"green\", \"yellow\", \"orange\", \"red\"]"
   ]
  },
  {
   "cell_type": "code",
   "execution_count": 3,
   "id": "45f189f2-e92e-4407-a547-6a4979824d8b",
   "metadata": {},
   "outputs": [],
   "source": [
    "wavelength = pd.Series( \n",
    "  [400, 470, 520, 580, 610, 710],    # values\n",
    "  index=colors,\n",
    "  name=\"wavelength\"\n",
    "  )"
   ]
  },
  {
   "cell_type": "code",
   "execution_count": 4,
   "id": "3c9e943e-2b23-4726-9573-bd424b430805",
   "metadata": {},
   "outputs": [
    {
     "data": {
      "text/plain": [
       "violet    400\n",
       "blue      470\n",
       "green     520\n",
       "yellow    580\n",
       "orange    610\n",
       "red       710\n",
       "Name: wavelength, dtype: int64"
      ]
     },
     "execution_count": 4,
     "metadata": {},
     "output_type": "execute_result"
    }
   ],
   "source": [
    "wavelength"
   ]
  },
  {
   "cell_type": "code",
   "execution_count": 5,
   "id": "50caffff-a188-4cb9-92c2-96995541722a",
   "metadata": {},
   "outputs": [
    {
     "data": {
      "text/plain": [
       "470"
      ]
     },
     "execution_count": 5,
     "metadata": {},
     "output_type": "execute_result"
    }
   ],
   "source": [
    "wavelength[\"blue\"]"
   ]
  },
  {
   "cell_type": "code",
   "execution_count": 6,
   "id": "a0f1a83b-2b59-4eb9-8f5b-f54901128f37",
   "metadata": {},
   "outputs": [
    {
     "data": {
      "text/plain": [
       "violet    400\n",
       "red       710\n",
       "Name: wavelength, dtype: int64"
      ]
     },
     "execution_count": 6,
     "metadata": {},
     "output_type": "execute_result"
    }
   ],
   "source": [
    "wavelength[ [\"violet\", \"red\"] ]"
   ]
  },
  {
   "cell_type": "code",
   "execution_count": 7,
   "id": "1453b8a1-1b37-4acd-827b-670e8d72f186",
   "metadata": {},
   "outputs": [
    {
     "data": {
      "text/plain": [
       "520"
      ]
     },
     "execution_count": 7,
     "metadata": {},
     "output_type": "execute_result"
    }
   ],
   "source": [
    "wavelength.iloc[2]"
   ]
  },
  {
   "cell_type": "code",
   "execution_count": 8,
   "id": "d5ca4584-f8f7-4ea5-acfd-cc5016df4ffc",
   "metadata": {},
   "outputs": [
    {
     "data": {
      "text/plain": [
       "array([400, 470, 520, 580, 610, 710])"
      ]
     },
     "execution_count": 8,
     "metadata": {},
     "output_type": "execute_result"
    }
   ],
   "source": [
    "wavelength.to_numpy()"
   ]
  },
  {
   "cell_type": "code",
   "execution_count": 9,
   "id": "1c6d7ac7-8756-499e-94bf-0de1792e1f85",
   "metadata": {},
   "outputs": [],
   "source": [
    "team = pd.Series(\n",
    "  [\"Vikings\", \"Bills\", \"Eagles\", \"Chargers\", \"Bengals\", \"Cardinals\"],\n",
    "  index = colors,\n",
    "  name=\"team\"\n",
    "  )"
   ]
  },
  {
   "cell_type": "code",
   "execution_count": 10,
   "id": "9b4549e6-d3cf-4f0c-b06a-d96f6d5139e3",
   "metadata": {},
   "outputs": [
    {
     "data": {
      "text/plain": [
       "'Eagles'"
      ]
     },
     "execution_count": 10,
     "metadata": {},
     "output_type": "execute_result"
    }
   ],
   "source": [
    "team[\"green\"]"
   ]
  },
  {
   "cell_type": "code",
   "execution_count": 11,
   "id": "e22c1d64-0df6-477a-9840-5860fb78e177",
   "metadata": {},
   "outputs": [
    {
     "data": {
      "text/plain": [
       "{'wavelength': violet    400\n",
       " blue      470\n",
       " green     520\n",
       " yellow    580\n",
       " orange    610\n",
       " red       710\n",
       " Name: wavelength, dtype: int64,\n",
       " 'team name': violet      Vikings\n",
       " blue          Bills\n",
       " green        Eagles\n",
       " yellow     Chargers\n",
       " orange      Bengals\n",
       " red       Cardinals\n",
       " Name: team, dtype: object}"
      ]
     },
     "execution_count": 11,
     "metadata": {},
     "output_type": "execute_result"
    }
   ],
   "source": [
    "{\"wavelength\": wavelength, \"team name\": team}"
   ]
  },
  {
   "cell_type": "code",
   "execution_count": 12,
   "id": "c479e4d8-8b2a-47dc-ac18-963443cfdcf5",
   "metadata": {},
   "outputs": [],
   "source": [
    "rainbow = pd.DataFrame( {\"wavelength\": wavelength, \"team name\": team} )"
   ]
  },
  {
   "cell_type": "code",
   "execution_count": 13,
   "id": "142cc678-60d9-4658-838f-29efed335d04",
   "metadata": {},
   "outputs": [
    {
     "data": {
      "text/html": [
       "<div>\n",
       "<style scoped>\n",
       "    .dataframe tbody tr th:only-of-type {\n",
       "        vertical-align: middle;\n",
       "    }\n",
       "\n",
       "    .dataframe tbody tr th {\n",
       "        vertical-align: top;\n",
       "    }\n",
       "\n",
       "    .dataframe thead th {\n",
       "        text-align: right;\n",
       "    }\n",
       "</style>\n",
       "<table border=\"1\" class=\"dataframe\">\n",
       "  <thead>\n",
       "    <tr style=\"text-align: right;\">\n",
       "      <th></th>\n",
       "      <th>wavelength</th>\n",
       "      <th>team name</th>\n",
       "    </tr>\n",
       "  </thead>\n",
       "  <tbody>\n",
       "    <tr>\n",
       "      <th>violet</th>\n",
       "      <td>400</td>\n",
       "      <td>Vikings</td>\n",
       "    </tr>\n",
       "    <tr>\n",
       "      <th>blue</th>\n",
       "      <td>470</td>\n",
       "      <td>Bills</td>\n",
       "    </tr>\n",
       "    <tr>\n",
       "      <th>green</th>\n",
       "      <td>520</td>\n",
       "      <td>Eagles</td>\n",
       "    </tr>\n",
       "    <tr>\n",
       "      <th>yellow</th>\n",
       "      <td>580</td>\n",
       "      <td>Chargers</td>\n",
       "    </tr>\n",
       "    <tr>\n",
       "      <th>orange</th>\n",
       "      <td>610</td>\n",
       "      <td>Bengals</td>\n",
       "    </tr>\n",
       "    <tr>\n",
       "      <th>red</th>\n",
       "      <td>710</td>\n",
       "      <td>Cardinals</td>\n",
       "    </tr>\n",
       "  </tbody>\n",
       "</table>\n",
       "</div>"
      ],
      "text/plain": [
       "        wavelength  team name\n",
       "violet         400    Vikings\n",
       "blue           470      Bills\n",
       "green          520     Eagles\n",
       "yellow         580   Chargers\n",
       "orange         610    Bengals\n",
       "red            710  Cardinals"
      ]
     },
     "execution_count": 13,
     "metadata": {},
     "output_type": "execute_result"
    }
   ],
   "source": [
    "rainbow"
   ]
  },
  {
   "cell_type": "code",
   "execution_count": 14,
   "id": "2e93e51d-93a5-44cf-be40-3edd3b0d4709",
   "metadata": {},
   "outputs": [
    {
     "data": {
      "text/plain": [
       "violet      Vikings\n",
       "blue          Bills\n",
       "green        Eagles\n",
       "yellow     Chargers\n",
       "orange      Bengals\n",
       "red       Cardinals\n",
       "Name: team name, dtype: object"
      ]
     },
     "execution_count": 14,
     "metadata": {},
     "output_type": "execute_result"
    }
   ],
   "source": [
    "rainbow[\"team name\"]"
   ]
  },
  {
   "cell_type": "code",
   "execution_count": 16,
   "id": "b28025ed-f729-46d3-935c-08cfa5153bad",
   "metadata": {},
   "outputs": [
    {
     "data": {
      "text/plain": [
       "wavelength      470\n",
       "team name     Bills\n",
       "Name: blue, dtype: object"
      ]
     },
     "execution_count": 16,
     "metadata": {},
     "output_type": "execute_result"
    }
   ],
   "source": [
    "rainbow.loc[\"blue\"]"
   ]
  },
  {
   "cell_type": "code",
   "execution_count": 17,
   "id": "76c26a36-27e3-47b2-ad4f-17535d976196",
   "metadata": {},
   "outputs": [],
   "source": [
    "rainbow[\"flower\"] = [\n",
    "    \"Lobelia\", \n",
    "    \"Cornflower\", \n",
    "    \"Bells-of-Ireland\", \n",
    "    \"Daffodil\",\n",
    "    \"Butterfly weed\",\n",
    "    \"Rose\"\n",
    "    ]"
   ]
  },
  {
   "cell_type": "code",
   "execution_count": 18,
   "id": "93fe8475-9d12-4751-ad34-ad62c048fe56",
   "metadata": {},
   "outputs": [
    {
     "data": {
      "text/html": [
       "<div>\n",
       "<style scoped>\n",
       "    .dataframe tbody tr th:only-of-type {\n",
       "        vertical-align: middle;\n",
       "    }\n",
       "\n",
       "    .dataframe tbody tr th {\n",
       "        vertical-align: top;\n",
       "    }\n",
       "\n",
       "    .dataframe thead th {\n",
       "        text-align: right;\n",
       "    }\n",
       "</style>\n",
       "<table border=\"1\" class=\"dataframe\">\n",
       "  <thead>\n",
       "    <tr style=\"text-align: right;\">\n",
       "      <th></th>\n",
       "      <th>wavelength</th>\n",
       "      <th>team name</th>\n",
       "      <th>flower</th>\n",
       "    </tr>\n",
       "  </thead>\n",
       "  <tbody>\n",
       "    <tr>\n",
       "      <th>violet</th>\n",
       "      <td>400</td>\n",
       "      <td>Vikings</td>\n",
       "      <td>Lobelia</td>\n",
       "    </tr>\n",
       "    <tr>\n",
       "      <th>blue</th>\n",
       "      <td>470</td>\n",
       "      <td>Bills</td>\n",
       "      <td>Cornflower</td>\n",
       "    </tr>\n",
       "    <tr>\n",
       "      <th>green</th>\n",
       "      <td>520</td>\n",
       "      <td>Eagles</td>\n",
       "      <td>Bells-of-Ireland</td>\n",
       "    </tr>\n",
       "    <tr>\n",
       "      <th>yellow</th>\n",
       "      <td>580</td>\n",
       "      <td>Chargers</td>\n",
       "      <td>Daffodil</td>\n",
       "    </tr>\n",
       "    <tr>\n",
       "      <th>orange</th>\n",
       "      <td>610</td>\n",
       "      <td>Bengals</td>\n",
       "      <td>Butterfly weed</td>\n",
       "    </tr>\n",
       "    <tr>\n",
       "      <th>red</th>\n",
       "      <td>710</td>\n",
       "      <td>Cardinals</td>\n",
       "      <td>Rose</td>\n",
       "    </tr>\n",
       "  </tbody>\n",
       "</table>\n",
       "</div>"
      ],
      "text/plain": [
       "        wavelength  team name            flower\n",
       "violet         400    Vikings           Lobelia\n",
       "blue           470      Bills        Cornflower\n",
       "green          520     Eagles  Bells-of-Ireland\n",
       "yellow         580   Chargers          Daffodil\n",
       "orange         610    Bengals    Butterfly weed\n",
       "red            710  Cardinals              Rose"
      ]
     },
     "execution_count": 18,
     "metadata": {},
     "output_type": "execute_result"
    }
   ],
   "source": [
    "rainbow"
   ]
  },
  {
   "cell_type": "code",
   "execution_count": null,
   "id": "dbc2ee53-4b8c-48ec-9526-9bb23e920af7",
   "metadata": {},
   "outputs": [],
   "source": []
  }
 ],
 "metadata": {
  "kernelspec": {
   "display_name": "Python 3 (ipykernel)",
   "language": "python",
   "name": "python3"
  },
  "language_info": {
   "codemirror_mode": {
    "name": "ipython",
    "version": 3
   },
   "file_extension": ".py",
   "mimetype": "text/x-python",
   "name": "python",
   "nbconvert_exporter": "python",
   "pygments_lexer": "ipython3",
   "version": "3.11.0"
  }
 },
 "nbformat": 4,
 "nbformat_minor": 5
}
