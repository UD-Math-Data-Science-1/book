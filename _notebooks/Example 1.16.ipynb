{
 "cells": [
  {
   "cell_type": "code",
   "execution_count": 1,
   "id": "2b843016-203d-49c5-a645-c41c80a2a8ad",
   "metadata": {},
   "outputs": [],
   "source": [
    "import pandas as pd"
   ]
  },
  {
   "cell_type": "code",
   "execution_count": 2,
   "id": "562f93b1-0b3e-4623-a50e-7b06c8d7fe06",
   "metadata": {},
   "outputs": [],
   "source": [
    "names = [\"Marge\", \"Homer\", \"Bart\", \"Lisa\", \"Maggie\"]\n",
    "months = pd.Series( [\"March\", \"May\", \"February\", \"May\", \"January\"], index=names)\n",
    "years = pd.Series([1955, 1956, 1979, 1981, 1988], index=names)"
   ]
  },
  {
   "cell_type": "code",
   "execution_count": 3,
   "id": "8ff0386e-d0de-4566-84d3-41466496122e",
   "metadata": {},
   "outputs": [
    {
     "data": {
      "text/html": [
       "<div>\n",
       "<style scoped>\n",
       "    .dataframe tbody tr th:only-of-type {\n",
       "        vertical-align: middle;\n",
       "    }\n",
       "\n",
       "    .dataframe tbody tr th {\n",
       "        vertical-align: top;\n",
       "    }\n",
       "\n",
       "    .dataframe thead th {\n",
       "        text-align: right;\n",
       "    }\n",
       "</style>\n",
       "<table border=\"1\" class=\"dataframe\">\n",
       "  <thead>\n",
       "    <tr style=\"text-align: right;\">\n",
       "      <th></th>\n",
       "      <th>month</th>\n",
       "      <th>date</th>\n",
       "      <th>year</th>\n",
       "    </tr>\n",
       "  </thead>\n",
       "  <tbody>\n",
       "    <tr>\n",
       "      <th>Marge</th>\n",
       "      <td>March</td>\n",
       "      <td>19</td>\n",
       "      <td>1955</td>\n",
       "    </tr>\n",
       "    <tr>\n",
       "      <th>Homer</th>\n",
       "      <td>May</td>\n",
       "      <td>12</td>\n",
       "      <td>1956</td>\n",
       "    </tr>\n",
       "    <tr>\n",
       "      <th>Bart</th>\n",
       "      <td>February</td>\n",
       "      <td>23</td>\n",
       "      <td>1979</td>\n",
       "    </tr>\n",
       "    <tr>\n",
       "      <th>Lisa</th>\n",
       "      <td>May</td>\n",
       "      <td>9</td>\n",
       "      <td>1981</td>\n",
       "    </tr>\n",
       "    <tr>\n",
       "      <th>Maggie</th>\n",
       "      <td>January</td>\n",
       "      <td>14</td>\n",
       "      <td>1988</td>\n",
       "    </tr>\n",
       "  </tbody>\n",
       "</table>\n",
       "</div>"
      ],
      "text/plain": [
       "           month  date  year\n",
       "Marge      March    19  1955\n",
       "Homer        May    12  1956\n",
       "Bart    February    23  1979\n",
       "Lisa         May     9  1981\n",
       "Maggie   January    14  1988"
      ]
     },
     "execution_count": 3,
     "metadata": {},
     "output_type": "execute_result"
    }
   ],
   "source": [
    "simpsons = pd.DataFrame( \n",
    "    {\"month\": months, \n",
    "     \"date\":  [19, 12, 23, 9, 14], \n",
    "     \"year\": years } \n",
    ")\n",
    "\n",
    "simpsons"
   ]
  },
  {
   "cell_type": "code",
   "execution_count": 4,
   "id": "96eb5e2b-7475-4683-8255-7329d386bc28",
   "metadata": {},
   "outputs": [
    {
     "data": {
      "text/plain": [
       "Marge     1955\n",
       "Homer     1956\n",
       "Bart      1979\n",
       "Lisa      1981\n",
       "Maggie    1988\n",
       "Name: year, dtype: int64"
      ]
     },
     "execution_count": 4,
     "metadata": {},
     "output_type": "execute_result"
    }
   ],
   "source": [
    "simpsons[\"year\"]"
   ]
  },
  {
   "cell_type": "code",
   "execution_count": 5,
   "id": "a4cd28ad-4bff-4897-a2e6-74e877bdd5e9",
   "metadata": {},
   "outputs": [
    {
     "data": {
      "text/html": [
       "<div>\n",
       "<style scoped>\n",
       "    .dataframe tbody tr th:only-of-type {\n",
       "        vertical-align: middle;\n",
       "    }\n",
       "\n",
       "    .dataframe tbody tr th {\n",
       "        vertical-align: top;\n",
       "    }\n",
       "\n",
       "    .dataframe thead th {\n",
       "        text-align: right;\n",
       "    }\n",
       "</style>\n",
       "<table border=\"1\" class=\"dataframe\">\n",
       "  <thead>\n",
       "    <tr style=\"text-align: right;\">\n",
       "      <th></th>\n",
       "      <th>month</th>\n",
       "      <th>date</th>\n",
       "    </tr>\n",
       "  </thead>\n",
       "  <tbody>\n",
       "    <tr>\n",
       "      <th>Marge</th>\n",
       "      <td>March</td>\n",
       "      <td>19</td>\n",
       "    </tr>\n",
       "    <tr>\n",
       "      <th>Homer</th>\n",
       "      <td>May</td>\n",
       "      <td>12</td>\n",
       "    </tr>\n",
       "    <tr>\n",
       "      <th>Bart</th>\n",
       "      <td>February</td>\n",
       "      <td>23</td>\n",
       "    </tr>\n",
       "    <tr>\n",
       "      <th>Lisa</th>\n",
       "      <td>May</td>\n",
       "      <td>9</td>\n",
       "    </tr>\n",
       "    <tr>\n",
       "      <th>Maggie</th>\n",
       "      <td>January</td>\n",
       "      <td>14</td>\n",
       "    </tr>\n",
       "  </tbody>\n",
       "</table>\n",
       "</div>"
      ],
      "text/plain": [
       "           month  date\n",
       "Marge      March    19\n",
       "Homer        May    12\n",
       "Bart    February    23\n",
       "Lisa         May     9\n",
       "Maggie   January    14"
      ]
     },
     "execution_count": 5,
     "metadata": {},
     "output_type": "execute_result"
    }
   ],
   "source": [
    "simpsons[ [\"month\", \"date\"] ]"
   ]
  },
  {
   "cell_type": "code",
   "execution_count": 6,
   "id": "733ec5a5-62da-4bda-ba40-42758701e138",
   "metadata": {},
   "outputs": [
    {
     "data": {
      "text/html": [
       "<div>\n",
       "<style scoped>\n",
       "    .dataframe tbody tr th:only-of-type {\n",
       "        vertical-align: middle;\n",
       "    }\n",
       "\n",
       "    .dataframe tbody tr th {\n",
       "        vertical-align: top;\n",
       "    }\n",
       "\n",
       "    .dataframe thead th {\n",
       "        text-align: right;\n",
       "    }\n",
       "</style>\n",
       "<table border=\"1\" class=\"dataframe\">\n",
       "  <thead>\n",
       "    <tr style=\"text-align: right;\">\n",
       "      <th></th>\n",
       "      <th>month</th>\n",
       "      <th>date</th>\n",
       "      <th>year</th>\n",
       "      <th>weekday</th>\n",
       "    </tr>\n",
       "  </thead>\n",
       "  <tbody>\n",
       "    <tr>\n",
       "      <th>Marge</th>\n",
       "      <td>March</td>\n",
       "      <td>19</td>\n",
       "      <td>1955</td>\n",
       "      <td>Saturday</td>\n",
       "    </tr>\n",
       "    <tr>\n",
       "      <th>Homer</th>\n",
       "      <td>May</td>\n",
       "      <td>12</td>\n",
       "      <td>1956</td>\n",
       "      <td>Saturday</td>\n",
       "    </tr>\n",
       "    <tr>\n",
       "      <th>Bart</th>\n",
       "      <td>February</td>\n",
       "      <td>23</td>\n",
       "      <td>1979</td>\n",
       "      <td>Friday</td>\n",
       "    </tr>\n",
       "    <tr>\n",
       "      <th>Lisa</th>\n",
       "      <td>May</td>\n",
       "      <td>9</td>\n",
       "      <td>1981</td>\n",
       "      <td>Saturday</td>\n",
       "    </tr>\n",
       "    <tr>\n",
       "      <th>Maggie</th>\n",
       "      <td>January</td>\n",
       "      <td>14</td>\n",
       "      <td>1988</td>\n",
       "      <td>Thursday</td>\n",
       "    </tr>\n",
       "  </tbody>\n",
       "</table>\n",
       "</div>"
      ],
      "text/plain": [
       "           month  date  year   weekday\n",
       "Marge      March    19  1955  Saturday\n",
       "Homer        May    12  1956  Saturday\n",
       "Bart    February    23  1979    Friday\n",
       "Lisa         May     9  1981  Saturday\n",
       "Maggie   January    14  1988  Thursday"
      ]
     },
     "execution_count": 6,
     "metadata": {},
     "output_type": "execute_result"
    }
   ],
   "source": [
    "simpsons[\"weekday\"] = [\"Saturday\", \"Saturday\", \"Friday\", \"Saturday\", \"Thursday\"]\n",
    "\n",
    "simpsons"
   ]
  },
  {
   "cell_type": "code",
   "execution_count": 7,
   "id": "c9f7f89a-2c0f-4664-be2e-fd349872be7b",
   "metadata": {},
   "outputs": [
    {
     "data": {
      "text/plain": [
       "month       January\n",
       "date             14\n",
       "year           1988\n",
       "weekday    Thursday\n",
       "Name: Maggie, dtype: object"
      ]
     },
     "execution_count": 7,
     "metadata": {},
     "output_type": "execute_result"
    }
   ],
   "source": [
    "simpsons.loc[\"Maggie\"]"
   ]
  },
  {
   "cell_type": "code",
   "execution_count": 8,
   "id": "0e630f04-0b71-46d3-9dfc-eb1c01524c08",
   "metadata": {},
   "outputs": [
    {
     "data": {
      "text/plain": [
       "Index(['Marge', 'Homer', 'Bart', 'Lisa', 'Maggie'], dtype='object')"
      ]
     },
     "execution_count": 8,
     "metadata": {},
     "output_type": "execute_result"
    }
   ],
   "source": [
    "simpsons.index"
   ]
  },
  {
   "cell_type": "code",
   "execution_count": 9,
   "id": "b0c4a362-4e28-4882-954f-78963d49ca95",
   "metadata": {},
   "outputs": [
    {
     "data": {
      "text/plain": [
       "array([['March', 19, 1955, 'Saturday'],\n",
       "       ['May', 12, 1956, 'Saturday'],\n",
       "       ['February', 23, 1979, 'Friday'],\n",
       "       ['May', 9, 1981, 'Saturday'],\n",
       "       ['January', 14, 1988, 'Thursday']], dtype=object)"
      ]
     },
     "execution_count": 9,
     "metadata": {},
     "output_type": "execute_result"
    }
   ],
   "source": [
    "simpsons.to_numpy()"
   ]
  },
  {
   "cell_type": "code",
   "execution_count": 10,
   "id": "b9493a7c-12de-48d4-9608-c97f7fb2ad19",
   "metadata": {},
   "outputs": [
    {
     "data": {
      "text/html": [
       "<div>\n",
       "<style scoped>\n",
       "    .dataframe tbody tr th:only-of-type {\n",
       "        vertical-align: middle;\n",
       "    }\n",
       "\n",
       "    .dataframe tbody tr th {\n",
       "        vertical-align: top;\n",
       "    }\n",
       "\n",
       "    .dataframe thead th {\n",
       "        text-align: right;\n",
       "    }\n",
       "</style>\n",
       "<table border=\"1\" class=\"dataframe\">\n",
       "  <thead>\n",
       "    <tr style=\"text-align: right;\">\n",
       "      <th></th>\n",
       "      <th>Color</th>\n",
       "      <th>Rating</th>\n",
       "    </tr>\n",
       "  </thead>\n",
       "  <tbody>\n",
       "    <tr>\n",
       "      <th>vanilla</th>\n",
       "      <td>white</td>\n",
       "      <td>5</td>\n",
       "    </tr>\n",
       "    <tr>\n",
       "      <th>chocolate</th>\n",
       "      <td>brown</td>\n",
       "      <td>9</td>\n",
       "    </tr>\n",
       "    <tr>\n",
       "      <th>strawberry</th>\n",
       "      <td>pink</td>\n",
       "      <td>8</td>\n",
       "    </tr>\n",
       "  </tbody>\n",
       "</table>\n",
       "</div>"
      ],
      "text/plain": [
       "            Color  Rating\n",
       "vanilla     white       5\n",
       "chocolate   brown       9\n",
       "strawberry   pink       8"
      ]
     },
     "execution_count": 10,
     "metadata": {},
     "output_type": "execute_result"
    }
   ],
   "source": [
    "pd.DataFrame( \n",
    "    [ (\"white\", 5), (\"brown\", 9), (\"pink\", 8) ], \n",
    "    columns=[\"Color\", \"Rating\"],\n",
    "    index=[\"vanilla\", \"chocolate\", \"strawberry\"]\n",
    "    )"
   ]
  },
  {
   "cell_type": "code",
   "execution_count": null,
   "id": "7ab657c6-3cbe-4fab-9352-45dcc7c7cf31",
   "metadata": {},
   "outputs": [],
   "source": []
  }
 ],
 "metadata": {
  "kernelspec": {
   "display_name": "Python 3 (ipykernel)",
   "language": "python",
   "name": "python3"
  },
  "language_info": {
   "codemirror_mode": {
    "name": "ipython",
    "version": 3
   },
   "file_extension": ".py",
   "mimetype": "text/x-python",
   "name": "python",
   "nbconvert_exporter": "python",
   "pygments_lexer": "ipython3",
   "version": "3.11.0"
  }
 },
 "nbformat": 4,
 "nbformat_minor": 5
}
