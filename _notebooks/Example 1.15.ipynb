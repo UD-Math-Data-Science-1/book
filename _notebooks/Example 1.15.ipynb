{
 "cells": [
  {
   "cell_type": "code",
   "execution_count": 1,
   "id": "2b843016-203d-49c5-a645-c41c80a2a8ad",
   "metadata": {},
   "outputs": [],
   "source": [
    "import pandas as pd"
   ]
  },
  {
   "cell_type": "code",
   "execution_count": 2,
   "id": "562f93b1-0b3e-4623-a50e-7b06c8d7fe06",
   "metadata": {},
   "outputs": [],
   "source": [
    "names = [\"Marge\", \"Homer\", \"Bart\", \"Lisa\", \"Maggie\"]"
   ]
  },
  {
   "cell_type": "code",
   "execution_count": 3,
   "id": "447d5d5b-edaa-47ca-8bfc-db0ffc28c8b0",
   "metadata": {
    "tags": []
   },
   "outputs": [],
   "source": [
    "months = pd.Series( [\"March\", \"May\", \"February\", \"May\", \"January\"], index=names)\n",
    "years = pd.Series([1955, 1956, 1979, 1981, 1988], index=names)"
   ]
  },
  {
   "cell_type": "code",
   "execution_count": 4,
   "id": "cca14bf3-089e-4af2-85a5-58aff0ffe91d",
   "metadata": {},
   "outputs": [
    {
     "data": {
      "text/plain": [
       "array(['March', 'May', 'February', 'January'], dtype=object)"
      ]
     },
     "execution_count": 4,
     "metadata": {},
     "output_type": "execute_result"
    }
   ],
   "source": [
    "months.unique()"
   ]
  },
  {
   "cell_type": "code",
   "execution_count": 5,
   "id": "09c8bbe4-fb5c-4157-826c-3696548dafb4",
   "metadata": {},
   "outputs": [
    {
     "data": {
      "text/plain": [
       "May         2\n",
       "March       1\n",
       "February    1\n",
       "January     1\n",
       "dtype: int64"
      ]
     },
     "execution_count": 5,
     "metadata": {},
     "output_type": "execute_result"
    }
   ],
   "source": [
    "months.value_counts()"
   ]
  },
  {
   "cell_type": "code",
   "execution_count": 6,
   "id": "fb217953-b618-455a-9b99-2a06ea51ef4e",
   "metadata": {},
   "outputs": [
    {
     "data": {
      "text/plain": [
       "Marge     False\n",
       "Homer      True\n",
       "Bart      False\n",
       "Lisa       True\n",
       "Maggie    False\n",
       "dtype: bool"
      ]
     },
     "execution_count": 6,
     "metadata": {},
     "output_type": "execute_result"
    }
   ],
   "source": [
    "months == \"May\""
   ]
  },
  {
   "cell_type": "code",
   "execution_count": 7,
   "id": "397c8d3d-206b-450c-ad61-eea2c1041801",
   "metadata": {},
   "outputs": [
    {
     "data": {
      "text/plain": [
       "1955"
      ]
     },
     "execution_count": 7,
     "metadata": {},
     "output_type": "execute_result"
    }
   ],
   "source": [
    "years.min()"
   ]
  },
  {
   "cell_type": "code",
   "execution_count": 8,
   "id": "5411b9e5-747f-4046-881b-7183ad47be99",
   "metadata": {},
   "outputs": [
    {
     "data": {
      "text/plain": [
       "'Marge'"
      ]
     },
     "execution_count": 8,
     "metadata": {},
     "output_type": "execute_result"
    }
   ],
   "source": [
    "years.idxmin()"
   ]
  },
  {
   "cell_type": "code",
   "execution_count": 9,
   "id": "9cedd33b-e53d-4409-bb96-466b30bcc1bd",
   "metadata": {},
   "outputs": [
    {
     "data": {
      "text/plain": [
       "1988"
      ]
     },
     "execution_count": 9,
     "metadata": {},
     "output_type": "execute_result"
    }
   ],
   "source": [
    "years.max()"
   ]
  },
  {
   "cell_type": "code",
   "execution_count": 10,
   "id": "38031339-fd0d-42bc-8d2e-de2e69e3b7be",
   "metadata": {},
   "outputs": [
    {
     "data": {
      "text/plain": [
       "1971.8"
      ]
     },
     "execution_count": 10,
     "metadata": {},
     "output_type": "execute_result"
    }
   ],
   "source": [
    "years.mean()"
   ]
  },
  {
   "cell_type": "code",
   "execution_count": 11,
   "id": "d03cf956-930c-444d-b229-20b827848b8d",
   "metadata": {},
   "outputs": [
    {
     "data": {
      "text/plain": [
       "'February'"
      ]
     },
     "execution_count": 11,
     "metadata": {},
     "output_type": "execute_result"
    }
   ],
   "source": [
    "months.min()"
   ]
  },
  {
   "cell_type": "code",
   "execution_count": null,
   "id": "8ff0386e-d0de-4566-84d3-41466496122e",
   "metadata": {},
   "outputs": [],
   "source": []
  }
 ],
 "metadata": {
  "kernelspec": {
   "display_name": "Python 3 (ipykernel)",
   "language": "python",
   "name": "python3"
  },
  "language_info": {
   "codemirror_mode": {
    "name": "ipython",
    "version": 3
   },
   "file_extension": ".py",
   "mimetype": "text/x-python",
   "name": "python",
   "nbconvert_exporter": "python",
   "pygments_lexer": "ipython3",
   "version": "3.11.0"
  }
 },
 "nbformat": 4,
 "nbformat_minor": 5
}
