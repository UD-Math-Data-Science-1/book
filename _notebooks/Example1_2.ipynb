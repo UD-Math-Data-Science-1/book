{
 "cells": [
  {
   "cell_type": "code",
   "execution_count": 1,
   "id": "b32bb2cc-653c-4ca0-aabe-1e7671276b1e",
   "metadata": {},
   "outputs": [
    {
     "name": "stdout",
     "output_type": "stream",
     "text": [
      "3 is a <class 'int'>\n"
     ]
    }
   ],
   "source": [
    "# This is an integer (int type)\n",
    "print(3, \"is a\", type(3))"
   ]
  },
  {
   "cell_type": "code",
   "execution_count": 2,
   "id": "10ebba7c-3c34-4914-b73c-4f229c4e4768",
   "metadata": {},
   "outputs": [
    {
     "name": "stdout",
     "output_type": "stream",
     "text": [
      "3.0 is a <class 'float'>\n"
     ]
    }
   ],
   "source": [
    "# This is a real number (float type)\n",
    "print(3.0, \"is a\", type(3.0))"
   ]
  },
  {
   "cell_type": "code",
   "execution_count": 3,
   "id": "25331cd9-ff35-4ec6-a784-fd0289d1e2f7",
   "metadata": {},
   "outputs": [
    {
     "name": "stdout",
     "output_type": "stream",
     "text": [
      "6.02e+23 is Avogadro's number\n",
      "6.62607e-34 is Planck's constant in Joule-seconds\n"
     ]
    }
   ],
   "source": [
    "print(6.02e23, \"is Avogadro's number\")\n",
    "print(6.62607e-34, \"is Planck's constant in Joule-seconds\")"
   ]
  },
  {
   "cell_type": "code",
   "execution_count": 4,
   "id": "7a47c065-ddee-402b-a0f8-5f1ce0dac288",
   "metadata": {},
   "outputs": [
    {
     "name": "stdout",
     "output_type": "stream",
     "text": [
      "float(3) creates 3.0\n"
     ]
    }
   ],
   "source": [
    "# Convert int to float (generally no change to numerical value)\n",
    "print( \"float(3) creates\", float(3) )"
   ]
  },
  {
   "cell_type": "code",
   "execution_count": 5,
   "id": "25cf78f2-65d5-4af0-8b61-e1ff1719410c",
   "metadata": {},
   "outputs": [
    {
     "name": "stdout",
     "output_type": "stream",
     "text": [
      "int(3.14) creates 3\n"
     ]
    }
   ],
   "source": [
    "# Truncate float to int\n",
    "print( \"int(3.14) creates\", int(3.14) )"
   ]
  },
  {
   "cell_type": "code",
   "execution_count": 6,
   "id": "1deb86de-7167-4c3b-afce-be5cfde782af",
   "metadata": {},
   "outputs": [
    {
     "name": "stdout",
     "output_type": "stream",
     "text": [
      "True\n"
     ]
    }
   ],
   "source": [
    "print(0.2 - 0.1 == 0.1)    # as expected"
   ]
  },
  {
   "cell_type": "code",
   "execution_count": 7,
   "id": "6b78ff1b-7ad8-4768-aa88-19b21396aff1",
   "metadata": {},
   "outputs": [
    {
     "name": "stdout",
     "output_type": "stream",
     "text": [
      "False\n"
     ]
    }
   ],
   "source": [
    "print(3.1 - 3.0 == 0.1)    # uh-oh"
   ]
  },
  {
   "cell_type": "code",
   "execution_count": 8,
   "id": "2485dabe-4398-4f43-9342-9026c1d35966",
   "metadata": {},
   "outputs": [
    {
     "name": "stdout",
     "output_type": "stream",
     "text": [
      "True\n"
     ]
    }
   ],
   "source": [
    "import numpy as np\n",
    "print( np.isclose(3.1 - 3.0, 0.1) )"
   ]
  }
 ],
 "metadata": {
  "kernelspec": {
   "display_name": "Python 3 (ipykernel)",
   "language": "python",
   "name": "python3"
  },
  "language_info": {
   "codemirror_mode": {
    "name": "ipython",
    "version": 3
   },
   "file_extension": ".py",
   "mimetype": "text/x-python",
   "name": "python",
   "nbconvert_exporter": "python",
   "pygments_lexer": "ipython3",
   "version": "3.11.0"
  }
 },
 "nbformat": 4,
 "nbformat_minor": 5
}
